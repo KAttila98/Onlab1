{
 "cells": [
  {
   "cell_type": "code",
   "execution_count": 1,
   "id": "destroyed-output",
   "metadata": {},
   "outputs": [],
   "source": [
    "import math\n",
    "from tqdm import tqdm\n",
    "import torch\n",
    "import torch.nn as nn\n",
    "import torch.nn.functional as F\n",
    "from model import TransformerModel"
   ]
  },
  {
   "cell_type": "markdown",
   "id": "digital-serbia",
   "metadata": {},
   "source": [
    "# Data processing and model compiling"
   ]
  },
  {
   "cell_type": "code",
   "execution_count": 2,
   "id": "primary-width",
   "metadata": {},
   "outputs": [],
   "source": [
    "#uj\n",
    "in_seq_len = 20\n",
    "out_seq_len = 5\n",
    "\n",
    "def get_batch(source, i):\n",
    "    #seq_len = min(bptt, len(source) - 1 - i)\n",
    "    #modositott\n",
    "    data = source[i:i+in_seq_len]\n",
    "    target = source[i+in_seq_len:i+in_seq_len + out_seq_len]\n",
    "    sos = torch.empty(1, target.shape[1], dtype = torch.int).fill_(vocab.stoi['<sos>'])\n",
    "    #uj\n",
    "    target = torch.cat((sos.to(device), target), dim = 0)\n",
    "    return data, target"
   ]
  },
  {
   "cell_type": "code",
   "execution_count": 3,
   "id": "compatible-three",
   "metadata": {},
   "outputs": [],
   "source": [
    "import io\n",
    "import torch\n",
    "from torchtext.datasets import WikiText2\n",
    "from torchtext.data.utils import get_tokenizer\n",
    "from collections import Counter\n",
    "from torchtext.vocab import Vocab\n",
    "\n",
    "train_iter = WikiText2(split='train')\n",
    "tokenizer = get_tokenizer('basic_english')\n",
    "counter = Counter()\n",
    "\n",
    "#uj\n",
    "counter.update(tokenizer('<sos>'))\n",
    "\n",
    "for line in train_iter:\n",
    "    counter.update(tokenizer(line))\n",
    "\n",
    "vocab = Vocab(counter)\n",
    "\n",
    "def data_process(raw_text_iter):\n",
    "    data = [torch.tensor([vocab[token] for token in tokenizer(item)],\n",
    "                       dtype=torch.long) for item in raw_text_iter]\n",
    "    return torch.cat(tuple(filter(lambda t: t.numel() > 0, data)))\n",
    "\n",
    "train_iter, val_iter, test_iter = WikiText2()\n",
    "train_data = data_process(train_iter)\n",
    "val_data = data_process(val_iter)\n",
    "test_data = data_process(test_iter)\n",
    "\n",
    "device = torch.device(\"cuda\" if torch.cuda.is_available() else \"cpu\")\n",
    "\n",
    "def batchify(data, bsz):\n",
    "    # Divide the dataset into bsz parts.\n",
    "    nbatch = data.size(0) // bsz\n",
    "    # Trim off any extra elements that wouldn't cleanly fit (remainders).\n",
    "    data = data.narrow(0, 0, nbatch * bsz)\n",
    "    # Evenly divide the data across the bsz batches.\n",
    "    data = data.view(bsz, -1).t().contiguous()\n",
    "    \n",
    "    #uj\n",
    "    nseq = (data.size(0) - out_seq_len) // in_seq_len\n",
    "    data = data.narrow(0, 0, nseq * in_seq_len + out_seq_len)\n",
    "    \n",
    "    return data.to(device)\n",
    "\n",
    "batch_size = 20\n",
    "eval_batch_size = 10\n",
    "train_data = batchify(train_data, batch_size)\n",
    "val_data = batchify(val_data, eval_batch_size)\n",
    "test_data = batchify(test_data, eval_batch_size)"
   ]
  },
  {
   "cell_type": "code",
   "execution_count": 4,
   "id": "hindu-warehouse",
   "metadata": {},
   "outputs": [],
   "source": [
    "ntokens = len(vocab.stoi) # the size of vocabulary\n",
    "emsize = 200 # embedding dimension\n",
    "nhid = 200 # the dimension of the feedforward network model in nn.TransformerEncoder\n",
    "nlayers = 2 # the number of nn.TransformerEncoderLayer in nn.TransformerEncoder\n",
    "nhead = 2 # the number of heads in the multiheadattention models\n",
    "dropout = 0.2 # the dropout value\n",
    "model = TransformerModel(ntokens, emsize, nhead, nhid, nlayers, dropout).to(device)"
   ]
  },
  {
   "cell_type": "code",
   "execution_count": 5,
   "id": "provincial-benjamin",
   "metadata": {},
   "outputs": [
    {
     "data": {
      "text/plain": [
       "102485"
      ]
     },
     "execution_count": 5,
     "metadata": {},
     "output_type": "execute_result"
    }
   ],
   "source": [
    "len(train_data)"
   ]
  },
  {
   "cell_type": "code",
   "execution_count": 6,
   "id": "electric-casino",
   "metadata": {},
   "outputs": [],
   "source": [
    "criterion = nn.CrossEntropyLoss()\n",
    "lr = 5.0 # learning rate\n",
    "optimizer = torch.optim.SGD(model.parameters(), lr=lr)\n",
    "scheduler = torch.optim.lr_scheduler.StepLR(optimizer, 1.0, gamma=0.95)\n",
    "\n",
    "import time\n",
    "def train():\n",
    "    model.train() # Turn on the train mode\n",
    "    total_loss = 0.\n",
    "    start_time = time.time()\n",
    "    #modositott\n",
    "    trg_mask = model.generate_square_subsequent_mask(out_seq_len).to(device)\n",
    "    for batch, i in enumerate(range(0, (train_data.size(0) - out_seq_len), in_seq_len)):\n",
    "        data, targets = get_batch(train_data, i)\n",
    "        \n",
    "        trg_inp = targets[:-1,:]\n",
    "        trg = targets[1:,:].reshape(-1)\n",
    "        optimizer.zero_grad()\n",
    "        output = model(data, trg_inp, src_mask = None, trg_mask = trg_mask)\n",
    "        loss = criterion(output.view(-1, ntokens), trg)\n",
    "        loss.backward()\n",
    "        torch.nn.utils.clip_grad_norm_(model.parameters(), 0.5)\n",
    "        optimizer.step()\n",
    "\n",
    "        total_loss += loss.item()\n",
    "        log_interval = 200\n",
    "        if batch % log_interval == 0 and batch > 0:\n",
    "            cur_loss = total_loss / log_interval\n",
    "            elapsed = time.time() - start_time\n",
    "            print('| epoch {:3d} | {:5d}/{:5d} batches | '\n",
    "                  'lr {:02.2f} | ms/batch {:5.2f} | '\n",
    "                  'loss {:5.2f} | ppl {:8.2f}'.format(\n",
    "                    epoch, batch, len(train_data) // in_seq_len, scheduler.get_lr()[0],\n",
    "                    elapsed * 1000 / log_interval,\n",
    "                    cur_loss, math.exp(cur_loss)))\n",
    "            total_loss = 0\n",
    "            start_time = time.time()\n",
    "\n",
    "def evaluate(eval_model, data_source):\n",
    "    eval_model.eval() # Turn on the evaluation mode\n",
    "    total_loss = 0.\n",
    "    trg_mask = model.generate_square_subsequent_mask(out_seq_len).to(device)\n",
    "    with torch.no_grad():\n",
    "        for i in range(0, (data_source.size(0) - out_seq_len), in_seq_len):\n",
    "            data, targets = get_batch(data_source, i)\n",
    "            trg_inp = targets[:-1,:]\n",
    "            trg = targets[1:,:].reshape(-1)\n",
    "            output = eval_model(data, trg_inp, src_mask = None, trg_mask = trg_mask)\n",
    "            output_flat = output.view(-1, ntokens)\n",
    "            total_loss += len(data) * criterion(output_flat, trg).item()\n",
    "    return total_loss / (len(data_source) - 1)"
   ]
  },
  {
   "cell_type": "markdown",
   "id": "square-digit",
   "metadata": {},
   "source": [
    "# Training"
   ]
  },
  {
   "cell_type": "code",
   "execution_count": 7,
   "id": "suffering-delight",
   "metadata": {
    "collapsed": true,
    "jupyter": {
     "outputs_hidden": true
    },
    "tags": []
   },
   "outputs": [
    {
     "name": "stderr",
     "output_type": "stream",
     "text": [
      "c:\\users\\kajud\\appdata\\local\\programs\\python\\python38\\lib\\site-packages\\torch\\optim\\lr_scheduler.py:369: UserWarning: To get the last learning rate computed by the scheduler, please use `get_last_lr()`.\n",
      "  warnings.warn(\"To get the last learning rate computed by the scheduler, \"\n"
     ]
    },
    {
     "name": "stdout",
     "output_type": "stream",
     "text": [
      "| epoch   1 |   200/ 5124 batches | lr 5.00 | ms/batch 16.63 | loss  8.54 | ppl  5137.74\n",
      "| epoch   1 |   400/ 5124 batches | lr 5.00 | ms/batch 15.37 | loss  7.68 | ppl  2166.35\n",
      "| epoch   1 |   600/ 5124 batches | lr 5.00 | ms/batch 14.90 | loss  7.45 | ppl  1715.86\n",
      "| epoch   1 |   800/ 5124 batches | lr 5.00 | ms/batch 14.70 | loss  7.28 | ppl  1455.59\n",
      "| epoch   1 |  1000/ 5124 batches | lr 5.00 | ms/batch 14.68 | loss  7.23 | ppl  1379.44\n",
      "| epoch   1 |  1200/ 5124 batches | lr 5.00 | ms/batch 14.43 | loss  7.20 | ppl  1342.35\n",
      "| epoch   1 |  1400/ 5124 batches | lr 5.00 | ms/batch 14.45 | loss  7.20 | ppl  1339.57\n",
      "| epoch   1 |  1600/ 5124 batches | lr 5.00 | ms/batch 14.33 | loss  7.17 | ppl  1300.51\n",
      "| epoch   1 |  1800/ 5124 batches | lr 5.00 | ms/batch 14.26 | loss  7.16 | ppl  1287.72\n",
      "| epoch   1 |  2000/ 5124 batches | lr 5.00 | ms/batch 14.23 | loss  7.14 | ppl  1266.35\n",
      "| epoch   1 |  2200/ 5124 batches | lr 5.00 | ms/batch 14.25 | loss  7.15 | ppl  1268.28\n",
      "| epoch   1 |  2400/ 5124 batches | lr 5.00 | ms/batch 14.17 | loss  7.10 | ppl  1216.96\n",
      "| epoch   1 |  2600/ 5124 batches | lr 5.00 | ms/batch 14.31 | loss  7.14 | ppl  1260.35\n",
      "| epoch   1 |  2800/ 5124 batches | lr 5.00 | ms/batch 14.39 | loss  7.10 | ppl  1211.66\n",
      "| epoch   1 |  3000/ 5124 batches | lr 5.00 | ms/batch 14.40 | loss  7.08 | ppl  1187.31\n",
      "| epoch   1 |  3200/ 5124 batches | lr 5.00 | ms/batch 14.23 | loss  7.12 | ppl  1236.63\n",
      "| epoch   1 |  3400/ 5124 batches | lr 5.00 | ms/batch 14.15 | loss  7.09 | ppl  1196.08\n",
      "| epoch   1 |  3600/ 5124 batches | lr 5.00 | ms/batch 14.32 | loss  7.08 | ppl  1183.45\n",
      "| epoch   1 |  3800/ 5124 batches | lr 5.00 | ms/batch 14.34 | loss  7.06 | ppl  1167.51\n",
      "| epoch   1 |  4000/ 5124 batches | lr 5.00 | ms/batch 14.10 | loss  7.06 | ppl  1162.58\n",
      "| epoch   1 |  4200/ 5124 batches | lr 5.00 | ms/batch 14.17 | loss  7.07 | ppl  1178.08\n",
      "| epoch   1 |  4400/ 5124 batches | lr 5.00 | ms/batch 14.24 | loss  7.06 | ppl  1168.50\n",
      "| epoch   1 |  4600/ 5124 batches | lr 5.00 | ms/batch 14.67 | loss  7.05 | ppl  1154.86\n",
      "| epoch   1 |  4800/ 5124 batches | lr 5.00 | ms/batch 14.50 | loss  7.03 | ppl  1127.78\n",
      "| epoch   1 |  5000/ 5124 batches | lr 5.00 | ms/batch 14.14 | loss  7.03 | ppl  1125.74\n",
      "-----------------------------------------------------------------------------------------\n",
      "| end of epoch   1 | time: 78.18s | valid loss  6.94 | valid ppl  1030.21\n",
      "-----------------------------------------------------------------------------------------\n",
      "| epoch   2 |   200/ 5124 batches | lr 4.51 | ms/batch 14.24 | loss  7.03 | ppl  1133.94\n",
      "| epoch   2 |   400/ 5124 batches | lr 4.51 | ms/batch 14.17 | loss  7.01 | ppl  1103.36\n",
      "| epoch   2 |   600/ 5124 batches | lr 4.51 | ms/batch 14.41 | loss  7.04 | ppl  1137.42\n",
      "| epoch   2 |   800/ 5124 batches | lr 4.51 | ms/batch 14.22 | loss  6.98 | ppl  1070.58\n",
      "| epoch   2 |  1000/ 5124 batches | lr 4.51 | ms/batch 14.34 | loss  7.00 | ppl  1095.79\n",
      "| epoch   2 |  1200/ 5124 batches | lr 4.51 | ms/batch 14.13 | loss  7.01 | ppl  1106.12\n",
      "| epoch   2 |  1400/ 5124 batches | lr 4.51 | ms/batch 14.19 | loss  7.02 | ppl  1118.31\n",
      "| epoch   2 |  1600/ 5124 batches | lr 4.51 | ms/batch 14.17 | loss  7.02 | ppl  1113.25\n",
      "| epoch   2 |  1800/ 5124 batches | lr 4.51 | ms/batch 14.19 | loss  7.02 | ppl  1122.13\n",
      "| epoch   2 |  2000/ 5124 batches | lr 4.51 | ms/batch 14.30 | loss  7.03 | ppl  1130.38\n",
      "| epoch   2 |  2200/ 5124 batches | lr 4.51 | ms/batch 14.39 | loss  7.04 | ppl  1147.05\n",
      "| epoch   2 |  2400/ 5124 batches | lr 4.51 | ms/batch 14.32 | loss  7.01 | ppl  1109.49\n",
      "| epoch   2 |  2600/ 5124 batches | lr 4.51 | ms/batch 14.23 | loss  7.04 | ppl  1145.46\n",
      "| epoch   2 |  2800/ 5124 batches | lr 4.51 | ms/batch 14.25 | loss  7.01 | ppl  1105.30\n",
      "| epoch   2 |  3000/ 5124 batches | lr 4.51 | ms/batch 14.22 | loss  6.99 | ppl  1084.84\n",
      "| epoch   2 |  3200/ 5124 batches | lr 4.51 | ms/batch 14.25 | loss  7.03 | ppl  1126.38\n",
      "| epoch   2 |  3400/ 5124 batches | lr 4.51 | ms/batch 14.15 | loss  6.99 | ppl  1090.75\n",
      "| epoch   2 |  3600/ 5124 batches | lr 4.51 | ms/batch 14.23 | loss  7.00 | ppl  1098.75\n",
      "| epoch   2 |  3800/ 5124 batches | lr 4.51 | ms/batch 14.20 | loss  7.00 | ppl  1091.26\n",
      "| epoch   2 |  4000/ 5124 batches | lr 4.51 | ms/batch 14.17 | loss  6.98 | ppl  1079.17\n",
      "| epoch   2 |  4200/ 5124 batches | lr 4.51 | ms/batch 14.23 | loss  7.00 | ppl  1102.09\n",
      "| epoch   2 |  4400/ 5124 batches | lr 4.51 | ms/batch 14.16 | loss  6.99 | ppl  1090.44\n",
      "| epoch   2 |  4600/ 5124 batches | lr 4.51 | ms/batch 14.12 | loss  6.99 | ppl  1083.36\n",
      "| epoch   2 |  4800/ 5124 batches | lr 4.51 | ms/batch 14.26 | loss  6.96 | ppl  1049.68\n",
      "| epoch   2 |  5000/ 5124 batches | lr 4.51 | ms/batch 14.39 | loss  6.96 | ppl  1050.02\n",
      "-----------------------------------------------------------------------------------------\n",
      "| end of epoch   2 | time: 76.92s | valid loss  6.92 | valid ppl  1015.52\n",
      "-----------------------------------------------------------------------------------------\n",
      "| epoch   3 |   200/ 5124 batches | lr 4.29 | ms/batch 14.80 | loss  6.97 | ppl  1061.38\n",
      "| epoch   3 |   400/ 5124 batches | lr 4.29 | ms/batch 14.89 | loss  6.91 | ppl  1004.64\n",
      "| epoch   3 |   600/ 5124 batches | lr 4.29 | ms/batch 14.45 | loss  6.98 | ppl  1070.96\n",
      "| epoch   3 |   800/ 5124 batches | lr 4.29 | ms/batch 14.44 | loss  6.91 | ppl  1000.71\n",
      "| epoch   3 |  1000/ 5124 batches | lr 4.29 | ms/batch 14.54 | loss  6.90 | ppl   996.06\n",
      "| epoch   3 |  1200/ 5124 batches | lr 4.29 | ms/batch 14.49 | loss  6.93 | ppl  1025.29\n",
      "| epoch   3 |  1400/ 5124 batches | lr 4.29 | ms/batch 14.40 | loss  6.94 | ppl  1030.83\n",
      "| epoch   3 |  1600/ 5124 batches | lr 4.29 | ms/batch 14.64 | loss  6.94 | ppl  1030.42\n",
      "| epoch   3 |  1800/ 5124 batches | lr 4.29 | ms/batch 14.53 | loss  6.94 | ppl  1036.62\n",
      "| epoch   3 |  2000/ 5124 batches | lr 4.29 | ms/batch 14.53 | loss  6.94 | ppl  1036.80\n",
      "| epoch   3 |  2200/ 5124 batches | lr 4.29 | ms/batch 14.59 | loss  6.95 | ppl  1043.08\n",
      "| epoch   3 |  2400/ 5124 batches | lr 4.29 | ms/batch 14.47 | loss  6.93 | ppl  1017.59\n",
      "| epoch   3 |  2600/ 5124 batches | lr 4.29 | ms/batch 14.64 | loss  6.95 | ppl  1047.49\n",
      "| epoch   3 |  2800/ 5124 batches | lr 4.29 | ms/batch 14.52 | loss  6.93 | ppl  1017.46\n",
      "| epoch   3 |  3000/ 5124 batches | lr 4.29 | ms/batch 14.52 | loss  6.92 | ppl  1008.50\n",
      "| epoch   3 |  3200/ 5124 batches | lr 4.29 | ms/batch 14.55 | loss  6.95 | ppl  1038.46\n",
      "| epoch   3 |  3400/ 5124 batches | lr 4.29 | ms/batch 14.97 | loss  6.92 | ppl  1014.04\n",
      "| epoch   3 |  3600/ 5124 batches | lr 4.29 | ms/batch 14.86 | loss  6.93 | ppl  1024.42\n",
      "| epoch   3 |  3800/ 5124 batches | lr 4.29 | ms/batch 14.73 | loss  6.92 | ppl  1011.29\n",
      "| epoch   3 |  4000/ 5124 batches | lr 4.29 | ms/batch 14.59 | loss  6.93 | ppl  1024.46\n",
      "| epoch   3 |  4200/ 5124 batches | lr 4.29 | ms/batch 14.65 | loss  6.93 | ppl  1021.43\n",
      "| epoch   3 |  4400/ 5124 batches | lr 4.29 | ms/batch 14.49 | loss  6.91 | ppl  1001.71\n",
      "| epoch   3 |  4600/ 5124 batches | lr 4.29 | ms/batch 14.58 | loss  6.92 | ppl  1008.03\n",
      "| epoch   3 |  4800/ 5124 batches | lr 4.29 | ms/batch 14.63 | loss  6.88 | ppl   970.20\n",
      "| epoch   3 |  5000/ 5124 batches | lr 4.29 | ms/batch 14.75 | loss  6.87 | ppl   960.19\n",
      "-----------------------------------------------------------------------------------------\n",
      "| end of epoch   3 | time: 78.80s | valid loss  6.86 | valid ppl   948.99\n",
      "-----------------------------------------------------------------------------------------\n",
      "| epoch   4 |   200/ 5124 batches | lr 4.07 | ms/batch 14.91 | loss  6.89 | ppl   979.07\n",
      "| epoch   4 |   400/ 5124 batches | lr 4.07 | ms/batch 14.84 | loss  6.86 | ppl   951.10\n",
      "| epoch   4 |   600/ 5124 batches | lr 4.07 | ms/batch 14.76 | loss  6.90 | ppl   995.47\n",
      "| epoch   4 |   800/ 5124 batches | lr 4.07 | ms/batch 14.66 | loss  6.84 | ppl   938.66\n",
      "| epoch   4 |  1000/ 5124 batches | lr 4.07 | ms/batch 14.74 | loss  6.85 | ppl   948.13\n",
      "| epoch   4 |  1200/ 5124 batches | lr 4.07 | ms/batch 14.87 | loss  6.90 | ppl   989.23\n",
      "| epoch   4 |  1400/ 5124 batches | lr 4.07 | ms/batch 14.69 | loss  6.92 | ppl  1010.79\n",
      "| epoch   4 |  1600/ 5124 batches | lr 4.07 | ms/batch 14.66 | loss  6.91 | ppl  1000.33\n",
      "| epoch   4 |  1800/ 5124 batches | lr 4.07 | ms/batch 14.90 | loss  6.91 | ppl  1003.28\n",
      "| epoch   4 |  2000/ 5124 batches | lr 4.07 | ms/batch 15.20 | loss  6.89 | ppl   986.72\n",
      "| epoch   4 |  2200/ 5124 batches | lr 4.07 | ms/batch 14.96 | loss  6.91 | ppl  1006.30\n",
      "| epoch   4 |  2400/ 5124 batches | lr 4.07 | ms/batch 14.90 | loss  6.87 | ppl   966.95\n",
      "| epoch   4 |  2600/ 5124 batches | lr 4.07 | ms/batch 14.81 | loss  6.91 | ppl   999.60\n",
      "| epoch   4 |  2800/ 5124 batches | lr 4.07 | ms/batch 14.72 | loss  6.89 | ppl   980.79\n",
      "| epoch   4 |  3000/ 5124 batches | lr 4.07 | ms/batch 14.77 | loss  6.87 | ppl   967.07\n",
      "| epoch   4 |  3200/ 5124 batches | lr 4.07 | ms/batch 14.98 | loss  6.90 | ppl   994.27\n",
      "| epoch   4 |  3400/ 5124 batches | lr 4.07 | ms/batch 14.79 | loss  6.89 | ppl   980.15\n",
      "| epoch   4 |  3600/ 5124 batches | lr 4.07 | ms/batch 14.80 | loss  6.87 | ppl   966.40\n",
      "| epoch   4 |  3800/ 5124 batches | lr 4.07 | ms/batch 14.89 | loss  6.84 | ppl   938.05\n",
      "| epoch   4 |  4000/ 5124 batches | lr 4.07 | ms/batch 14.80 | loss  6.86 | ppl   955.73\n",
      "| epoch   4 |  4200/ 5124 batches | lr 4.07 | ms/batch 14.84 | loss  6.87 | ppl   961.65\n",
      "| epoch   4 |  4400/ 5124 batches | lr 4.07 | ms/batch 14.72 | loss  6.87 | ppl   960.53\n",
      "| epoch   4 |  4600/ 5124 batches | lr 4.07 | ms/batch 14.90 | loss  6.86 | ppl   956.28\n",
      "| epoch   4 |  4800/ 5124 batches | lr 4.07 | ms/batch 14.87 | loss  6.83 | ppl   927.80\n",
      "| epoch   4 |  5000/ 5124 batches | lr 4.07 | ms/batch 15.06 | loss  6.83 | ppl   922.27\n",
      "-----------------------------------------------------------------------------------------\n",
      "| end of epoch   4 | time: 79.96s | valid loss  6.93 | valid ppl  1026.41\n",
      "-----------------------------------------------------------------------------------------\n"
     ]
    }
   ],
   "source": [
    "best_val_loss = float(\"inf\")\n",
    "epochs = 4 # The number of epochs\n",
    "best_model = None\n",
    "\n",
    "for epoch in range(1, epochs + 1):\n",
    "    epoch_start_time = time.time()\n",
    "    train()\n",
    "    val_loss = evaluate(model, val_data)\n",
    "    print('-' * 89)\n",
    "    print('| end of epoch {:3d} | time: {:5.2f}s | valid loss {:5.2f} | '\n",
    "          'valid ppl {:8.2f}'.format(epoch, (time.time() - epoch_start_time),\n",
    "                                     val_loss, math.exp(val_loss)))\n",
    "    print('-' * 89)\n",
    "\n",
    "    if val_loss < best_val_loss:\n",
    "        best_val_loss = val_loss\n",
    "        best_model = model\n",
    "\n",
    "    scheduler.step()"
   ]
  },
  {
   "cell_type": "markdown",
   "id": "paperback-council",
   "metadata": {},
   "source": [
    "# Evaluating"
   ]
  },
  {
   "cell_type": "code",
   "execution_count": 9,
   "id": "accessory-ambassador",
   "metadata": {},
   "outputs": [],
   "source": [
    "data, targets = get_batch(train_data, 10) # 1 szavankent vannak shiftelve a szekvenciak, target = kov input szekvencia"
   ]
  },
  {
   "cell_type": "code",
   "execution_count": 10,
   "id": "awful-moisture",
   "metadata": {},
   "outputs": [
    {
     "name": "stdout",
     "output_type": "stream",
     "text": [
      "Input:\n"
     ]
    },
    {
     "data": {
      "text/plain": [
       "'chronicles ( japanese 戦場のヴァルキュリア3 , lit . valkyria of the battlefield 3 ) , commonly referred to as valkyria chronicles'"
      ]
     },
     "execution_count": 10,
     "metadata": {},
     "output_type": "execute_result"
    }
   ],
   "source": [
    "print(\"Input:\")\n",
    "' '.join([vocab.itos[i] for i in data[:,0].tolist()])"
   ]
  },
  {
   "cell_type": "code",
   "execution_count": 11,
   "id": "brief-dryer",
   "metadata": {},
   "outputs": [
    {
     "name": "stdout",
     "output_type": "stream",
     "text": [
      "Target:\n"
     ]
    },
    {
     "data": {
      "text/plain": [
       "'<sos> iii outside japan , is'"
      ]
     },
     "execution_count": 11,
     "metadata": {},
     "output_type": "execute_result"
    }
   ],
   "source": [
    "print(\"Target:\")\n",
    "' '.join([vocab.itos[i] for i in targets.view(out_seq_len + 1, batch_size)[:,0].tolist()])"
   ]
  },
  {
   "cell_type": "code",
   "execution_count": 91,
   "id": "middle-female",
   "metadata": {},
   "outputs": [],
   "source": [
    "sentence = test_data[35:70,9].unsqueeze(0).cuda()\n",
    "generated = sentence.transpose(0, 1)"
   ]
  },
  {
   "cell_type": "code",
   "execution_count": 92,
   "id": "ranking-requirement",
   "metadata": {},
   "outputs": [
    {
     "name": "stdout",
     "output_type": "stream",
     "text": [
      "Generating text with seed:\n"
     ]
    },
    {
     "data": {
      "text/plain": [
       "'basketball player who represented australia in <unk> at the 2012 summer paralympics in london , coming 11th and 12th in her events . <unk> to wheelchair basketball , she made her debut with the national'"
      ]
     },
     "execution_count": 92,
     "metadata": {},
     "output_type": "execute_result"
    }
   ],
   "source": [
    "print(\"Generating text with seed:\")\n",
    "' '.join([vocab.itos[i] for i in generated.transpose(0,1).tolist()[0]])"
   ]
  },
  {
   "cell_type": "code",
   "execution_count": 93,
   "id": "smoking-punishment",
   "metadata": {},
   "outputs": [],
   "source": [
    "model.eval()\n",
    "softmax = torch.nn.Softmax(dim = 1)\n",
    "data = generated\n",
    "for i in range(30):\n",
    "    src_mask = model.generate_square_subsequent_mask(data.size(0)).to(device)\n",
    "    output = model(data, src_mask)\n",
    "    output_flat = torch.argmax(softmax(output.view(-1, ntokens)), dim = 1)\n",
    "    generated = torch.cat((generated, output_flat[-1].view(-1,1)), dim = 0)\n",
    "    data = generated[-bptt:]"
   ]
  },
  {
   "cell_type": "code",
   "execution_count": 94,
   "id": "experimental-throat",
   "metadata": {},
   "outputs": [
    {
     "name": "stdout",
     "output_type": "stream",
     "text": [
      "Generated text:\n"
     ]
    },
    {
     "data": {
      "text/plain": [
       "'basketball player who represented australia in <unk> at the 2012 summer paralympics in london , coming 11th and 12th in her events . <unk> to wheelchair basketball , she made her debut with the national hockey league , and was a first time , and was a first time , and was a first time , and a first down , and a first down'"
      ]
     },
     "execution_count": 94,
     "metadata": {},
     "output_type": "execute_result"
    }
   ],
   "source": [
    "print(\"Generated text:\")\n",
    "' '.join([vocab.itos[i] for i in generated.transpose(0,1).tolist()[0]])"
   ]
  }
 ],
 "metadata": {
  "kernelspec": {
   "display_name": "Python 3",
   "language": "python",
   "name": "python3"
  },
  "language_info": {
   "codemirror_mode": {
    "name": "ipython",
    "version": 3
   },
   "file_extension": ".py",
   "mimetype": "text/x-python",
   "name": "python",
   "nbconvert_exporter": "python",
   "pygments_lexer": "ipython3",
   "version": "3.8.7"
  }
 },
 "nbformat": 4,
 "nbformat_minor": 5
}
