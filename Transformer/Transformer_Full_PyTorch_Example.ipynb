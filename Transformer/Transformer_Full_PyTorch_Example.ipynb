{
 "cells": [
  {
   "cell_type": "code",
   "execution_count": 1,
   "id": "developmental-window",
   "metadata": {},
   "outputs": [],
   "source": [
    "import math\n",
    "from tqdm import tqdm\n",
    "import torch\n",
    "import torch.nn as nn\n",
    "import torch.nn.functional as F\n",
    "from model import TransformerModel"
   ]
  },
  {
   "cell_type": "markdown",
   "id": "multiple-violence",
   "metadata": {},
   "source": [
    "# Data processing and model compiling"
   ]
  },
  {
   "cell_type": "code",
   "execution_count": 2,
   "id": "cubic-dispute",
   "metadata": {},
   "outputs": [],
   "source": [
    "#uj\n",
    "in_seq_len = 20\n",
    "out_seq_len = 5\n",
    "\n",
    "def get_batch(source, i):\n",
    "    #seq_len = min(bptt, len(source) - 1 - i)\n",
    "    #modositott\n",
    "    data = source[i:i+in_seq_len]\n",
    "    target = source[i+in_seq_len:i+in_seq_len + out_seq_len]\n",
    "    sos = torch.empty(1, target.shape[1], dtype = torch.int).fill_(vocab.stoi['<sos>'])\n",
    "    #uj\n",
    "    target = torch.cat((sos.to(device), target), dim = 0)\n",
    "    return data, target"
   ]
  },
  {
   "cell_type": "code",
   "execution_count": 3,
   "id": "binary-matter",
   "metadata": {},
   "outputs": [],
   "source": [
    "import io\n",
    "import torch\n",
    "from torchtext.datasets import WikiText2\n",
    "from torchtext.data.utils import get_tokenizer\n",
    "from collections import Counter\n",
    "from torchtext.vocab import Vocab\n",
    "\n",
    "train_iter = WikiText2(split='train')\n",
    "tokenizer = get_tokenizer('basic_english')\n",
    "counter = Counter()\n",
    "\n",
    "#uj\n",
    "counter.update(tokenizer('<sos>'))\n",
    "\n",
    "for line in train_iter:\n",
    "    counter.update(tokenizer(line))\n",
    "\n",
    "vocab = Vocab(counter)\n",
    "\n",
    "def data_process(raw_text_iter):\n",
    "    data = [torch.tensor([vocab[token] for token in tokenizer(item)],\n",
    "                       dtype=torch.long) for item in raw_text_iter]\n",
    "    return torch.cat(tuple(filter(lambda t: t.numel() > 0, data)))\n",
    "\n",
    "train_iter, val_iter, test_iter = WikiText2()\n",
    "train_data = data_process(train_iter)\n",
    "val_data = data_process(val_iter)\n",
    "test_data = data_process(test_iter)\n",
    "\n",
    "device = torch.device(\"cuda\" if torch.cuda.is_available() else \"cpu\")\n",
    "\n",
    "def batchify(data, bsz):\n",
    "    # Divide the dataset into bsz parts.\n",
    "    nbatch = data.size(0) // bsz\n",
    "    # Trim off any extra elements that wouldn't cleanly fit (remainders).\n",
    "    data = data.narrow(0, 0, nbatch * bsz)\n",
    "    # Evenly divide the data across the bsz batches.\n",
    "    data = data.view(bsz, -1).t().contiguous()\n",
    "    \n",
    "    #uj\n",
    "    nseq = (data.size(0) - out_seq_len) // in_seq_len\n",
    "    data = data.narrow(0, 0, nseq * in_seq_len + out_seq_len)\n",
    "    \n",
    "    return data.to(device)\n",
    "\n",
    "batch_size = 20\n",
    "eval_batch_size = 10\n",
    "train_data = batchify(train_data, batch_size)\n",
    "val_data = batchify(val_data, eval_batch_size)\n",
    "test_data = batchify(test_data, eval_batch_size)"
   ]
  },
  {
   "cell_type": "code",
   "execution_count": 4,
   "id": "super-jenny",
   "metadata": {},
   "outputs": [],
   "source": [
    "ntokens = len(vocab.stoi) # the size of vocabulary\n",
    "emsize = 200 # embedding dimension\n",
    "nhid = 200 # the dimension of the feedforward network model in nn.TransformerEncoder\n",
    "nlayers = 2 # the number of nn.TransformerEncoderLayer in nn.TransformerEncoder\n",
    "nhead = 2 # the number of heads in the multiheadattention models\n",
    "dropout = 0.2 # the dropout value\n",
    "model = TransformerModel(ntokens, emsize, nhead, nhid, nlayers, dropout).to(device)"
   ]
  },
  {
   "cell_type": "code",
   "execution_count": 5,
   "id": "developing-paint",
   "metadata": {},
   "outputs": [
    {
     "data": {
      "text/plain": [
       "102485"
      ]
     },
     "execution_count": 5,
     "metadata": {},
     "output_type": "execute_result"
    }
   ],
   "source": [
    "len(train_data)"
   ]
  },
  {
   "cell_type": "code",
   "execution_count": 6,
   "id": "anonymous-glenn",
   "metadata": {},
   "outputs": [],
   "source": [
    "criterion = nn.CrossEntropyLoss()\n",
    "lr = 5.0 # learning rate\n",
    "optimizer = torch.optim.SGD(model.parameters(), lr=lr)\n",
    "scheduler = torch.optim.lr_scheduler.StepLR(optimizer, 1.0, gamma=0.95)\n",
    "\n",
    "import time\n",
    "def train():\n",
    "    model.train() # Turn on the train mode\n",
    "    total_loss = 0.\n",
    "    start_time = time.time()\n",
    "    #modositott\n",
    "    trg_mask = model.generate_square_subsequent_mask(out_seq_len).to(device)\n",
    "    for batch, i in enumerate(range(0, (train_data.size(0) - out_seq_len), in_seq_len)):\n",
    "        data, targets = get_batch(train_data, i)\n",
    "        \n",
    "        trg_inp = targets[:-1,:]\n",
    "        trg = targets[1:,:].reshape(-1)\n",
    "        optimizer.zero_grad()\n",
    "        output = model(data, trg_inp, src_mask = None, trg_mask = trg_mask)\n",
    "        loss = criterion(output.view(-1, ntokens), trg)\n",
    "        loss.backward()\n",
    "        torch.nn.utils.clip_grad_norm_(model.parameters(), 0.5)\n",
    "        optimizer.step()\n",
    "\n",
    "        total_loss += loss.item()\n",
    "        log_interval = 200\n",
    "        if batch % log_interval == 0 and batch > 0:\n",
    "            cur_loss = total_loss / log_interval\n",
    "            elapsed = time.time() - start_time\n",
    "            print('| epoch {:3d} | {:5d}/{:5d} batches | '\n",
    "                  'lr {:02.2f} | ms/batch {:5.2f} | '\n",
    "                  'loss {:5.2f} | ppl {:8.2f}'.format(\n",
    "                    epoch, batch, len(train_data) // in_seq_len, scheduler.get_lr()[0],\n",
    "                    elapsed * 1000 / log_interval,\n",
    "                    cur_loss, math.exp(cur_loss)))\n",
    "            total_loss = 0\n",
    "            start_time = time.time()\n",
    "\n",
    "def evaluate(eval_model, data_source):\n",
    "    eval_model.eval() # Turn on the evaluation mode\n",
    "    total_loss = 0.\n",
    "    trg_mask = model.generate_square_subsequent_mask(out_seq_len).to(device)\n",
    "    with torch.no_grad():\n",
    "        for i in range(0, (data_source.size(0) - out_seq_len), in_seq_len):\n",
    "            data, targets = get_batch(data_source, i)\n",
    "            trg_inp = targets[:-1,:]\n",
    "            trg = targets[1:,:].reshape(-1)\n",
    "            output = eval_model(data, trg_inp, src_mask = None, trg_mask = trg_mask)\n",
    "            output_flat = output.view(-1, ntokens)\n",
    "            total_loss += len(data) * criterion(output_flat, trg).item()\n",
    "    return total_loss / (len(data_source) - 1)"
   ]
  },
  {
   "cell_type": "markdown",
   "id": "circular-registrar",
   "metadata": {},
   "source": [
    "# Training"
   ]
  },
  {
   "cell_type": "code",
   "execution_count": 7,
   "id": "endangered-earth",
   "metadata": {
    "tags": []
   },
   "outputs": [
    {
     "name": "stderr",
     "output_type": "stream",
     "text": [
      "c:\\users\\kajud\\appdata\\local\\programs\\python\\python38\\lib\\site-packages\\torch\\optim\\lr_scheduler.py:369: UserWarning: To get the last learning rate computed by the scheduler, please use `get_last_lr()`.\n",
      "  warnings.warn(\"To get the last learning rate computed by the scheduler, \"\n"
     ]
    },
    {
     "name": "stdout",
     "output_type": "stream",
     "text": [
      "| epoch   1 |   200/ 5124 batches | lr 5.00 | ms/batch 15.98 | loss  8.65 | ppl  5733.12\n",
      "| epoch   1 |   400/ 5124 batches | lr 5.00 | ms/batch 14.74 | loss  7.70 | ppl  2215.78\n",
      "| epoch   1 |   600/ 5124 batches | lr 5.00 | ms/batch 14.49 | loss  7.47 | ppl  1757.15\n",
      "| epoch   1 |   800/ 5124 batches | lr 5.00 | ms/batch 14.41 | loss  7.30 | ppl  1473.77\n",
      "| epoch   1 |  1000/ 5124 batches | lr 5.00 | ms/batch 14.38 | loss  7.23 | ppl  1376.60\n",
      "| epoch   1 |  1200/ 5124 batches | lr 5.00 | ms/batch 14.12 | loss  7.20 | ppl  1343.11\n",
      "| epoch   1 |  1400/ 5124 batches | lr 5.00 | ms/batch 14.03 | loss  7.20 | ppl  1338.76\n",
      "| epoch   1 |  1600/ 5124 batches | lr 5.00 | ms/batch 13.79 | loss  7.17 | ppl  1294.27\n",
      "| epoch   1 |  1800/ 5124 batches | lr 5.00 | ms/batch 13.95 | loss  7.16 | ppl  1293.10\n",
      "| epoch   1 |  2000/ 5124 batches | lr 5.00 | ms/batch 13.92 | loss  7.14 | ppl  1263.57\n",
      "| epoch   1 |  2200/ 5124 batches | lr 5.00 | ms/batch 13.74 | loss  7.14 | ppl  1266.97\n",
      "| epoch   1 |  2400/ 5124 batches | lr 5.00 | ms/batch 13.72 | loss  7.10 | ppl  1215.65\n",
      "| epoch   1 |  2600/ 5124 batches | lr 5.00 | ms/batch 13.68 | loss  7.14 | ppl  1255.76\n",
      "| epoch   1 |  2800/ 5124 batches | lr 5.00 | ms/batch 13.81 | loss  7.10 | ppl  1211.94\n",
      "| epoch   1 |  3000/ 5124 batches | lr 5.00 | ms/batch 13.56 | loss  7.07 | ppl  1176.29\n",
      "| epoch   1 |  3200/ 5124 batches | lr 5.00 | ms/batch 13.82 | loss  7.12 | ppl  1233.28\n",
      "| epoch   1 |  3400/ 5124 batches | lr 5.00 | ms/batch 13.69 | loss  7.08 | ppl  1186.11\n",
      "| epoch   1 |  3600/ 5124 batches | lr 5.00 | ms/batch 13.73 | loss  7.08 | ppl  1186.77\n",
      "| epoch   1 |  3800/ 5124 batches | lr 5.00 | ms/batch 13.66 | loss  7.06 | ppl  1168.46\n",
      "| epoch   1 |  4000/ 5124 batches | lr 5.00 | ms/batch 13.78 | loss  7.06 | ppl  1168.56\n",
      "| epoch   1 |  4200/ 5124 batches | lr 5.00 | ms/batch 13.77 | loss  7.07 | ppl  1177.26\n",
      "| epoch   1 |  4400/ 5124 batches | lr 5.00 | ms/batch 13.66 | loss  7.06 | ppl  1165.99\n",
      "| epoch   1 |  4600/ 5124 batches | lr 5.00 | ms/batch 13.77 | loss  7.05 | ppl  1150.49\n",
      "| epoch   1 |  4800/ 5124 batches | lr 5.00 | ms/batch 13.65 | loss  7.03 | ppl  1125.10\n",
      "| epoch   1 |  5000/ 5124 batches | lr 5.00 | ms/batch 13.67 | loss  7.02 | ppl  1120.57\n",
      "-----------------------------------------------------------------------------------------\n",
      "| end of epoch   1 | time: 75.48s | valid loss  6.94 | valid ppl  1033.52\n",
      "-----------------------------------------------------------------------------------------\n"
     ]
    }
   ],
   "source": [
    "best_val_loss = float(\"inf\")\n",
    "epochs = 1 # The number of epochs\n",
    "best_model = None\n",
    "\n",
    "for epoch in range(1, epochs + 1):\n",
    "    epoch_start_time = time.time()\n",
    "    train()\n",
    "    val_loss = evaluate(model, val_data)\n",
    "    print('-' * 89)\n",
    "    print('| end of epoch {:3d} | time: {:5.2f}s | valid loss {:5.2f} | '\n",
    "          'valid ppl {:8.2f}'.format(epoch, (time.time() - epoch_start_time),\n",
    "                                     val_loss, math.exp(val_loss)))\n",
    "    print('-' * 89)\n",
    "\n",
    "    if val_loss < best_val_loss:\n",
    "        best_val_loss = val_loss\n",
    "        best_model = model\n",
    "\n",
    "    scheduler.step()"
   ]
  },
  {
   "cell_type": "markdown",
   "id": "received-hardwood",
   "metadata": {},
   "source": [
    "# Evaluating"
   ]
  },
  {
   "cell_type": "code",
   "execution_count": 8,
   "id": "heard-wealth",
   "metadata": {},
   "outputs": [],
   "source": [
    "data, targets = get_batch(train_data, 10) # 1 szavankent vannak shiftelve a szekvenciak, target = kov input szekvencia"
   ]
  },
  {
   "cell_type": "code",
   "execution_count": 9,
   "id": "lovely-infection",
   "metadata": {},
   "outputs": [
    {
     "name": "stdout",
     "output_type": "stream",
     "text": [
      "Input:\n"
     ]
    },
    {
     "data": {
      "text/plain": [
       "'chronicles ( japanese 戦場のヴァルキュリア3 , lit . valkyria of the battlefield 3 ) , commonly referred to as valkyria chronicles'"
      ]
     },
     "execution_count": 9,
     "metadata": {},
     "output_type": "execute_result"
    }
   ],
   "source": [
    "print(\"Input:\")\n",
    "' '.join([vocab.itos[i] for i in data[:,0].tolist()])"
   ]
  },
  {
   "cell_type": "code",
   "execution_count": 10,
   "id": "pregnant-transparency",
   "metadata": {},
   "outputs": [
    {
     "name": "stdout",
     "output_type": "stream",
     "text": [
      "Target:\n"
     ]
    },
    {
     "data": {
      "text/plain": [
       "'<sos> iii outside japan , is'"
      ]
     },
     "execution_count": 10,
     "metadata": {},
     "output_type": "execute_result"
    }
   ],
   "source": [
    "print(\"Target:\")\n",
    "' '.join([vocab.itos[i] for i in targets.view(out_seq_len + 1, batch_size)[:,0].tolist()])"
   ]
  },
  {
   "cell_type": "code",
   "execution_count": 19,
   "id": "fossil-broadcast",
   "metadata": {},
   "outputs": [],
   "source": [
    "sentence = test_data[35:70,9].unsqueeze(0).cuda()\n",
    "generated = sentence.transpose(0, 1)"
   ]
  },
  {
   "cell_type": "code",
   "execution_count": 20,
   "id": "disciplinary-wyoming",
   "metadata": {},
   "outputs": [
    {
     "name": "stdout",
     "output_type": "stream",
     "text": [
      "Generating text with seed:\n"
     ]
    },
    {
     "data": {
      "text/plain": [
       "'basketball player who represented australia in <unk> at the 2012 summer paralympics in london , coming 11th and 12th in her events . <unk> to wheelchair basketball , she made her debut with the national'"
      ]
     },
     "execution_count": 20,
     "metadata": {},
     "output_type": "execute_result"
    }
   ],
   "source": [
    "print(\"Generating text with seed:\")\n",
    "' '.join([vocab.itos[i] for i in generated.transpose(0,1).tolist()[0]])"
   ]
  },
  {
   "cell_type": "code",
   "execution_count": 25,
   "id": "freelance-lambda",
   "metadata": {},
   "outputs": [],
   "source": [
    "model.eval()\n",
    "max_len = 10\n",
    "\n",
    "src = model.emb_encoder(generated) * math.sqrt(model.ninp)\n",
    "src = model.pos_encoder(src)\n",
    "e_output = model.transformer_encoder(src, None)\n",
    "\n",
    "outputs = torch.zeros(max_len).type_as(generated.data)\n",
    "outputs[0] = torch.LongTensor([vocab.stoi['<sos>']])\n",
    "\n",
    "for i in range(1, max_len):    \n",
    "            \n",
    "        trg_mask = model.generate_square_subsequent_mask(i).to(device)\n",
    "        \n",
    "        trg = model.emb_decoder(outputs[:i].unsqueeze(1)) * math.sqrt(model.ninp)\n",
    "        trg = model.pos_encoder(trg)\n",
    "        \n",
    "        d_output = model.transformer_decoder(trg, e_output, trg_mask, None)\n",
    "        out = model.decoder(d_output)\n",
    "        out = torch.argmax(F.softmax(out, dim=-1), dim = -1).view(-1)[-1]\n",
    "        outputs[i] = out\n",
    "        "
   ]
  },
  {
   "cell_type": "code",
   "execution_count": 26,
   "id": "residential-speed",
   "metadata": {},
   "outputs": [
    {
     "name": "stdout",
     "output_type": "stream",
     "text": [
      "Generated text:\n"
     ]
    },
    {
     "data": {
      "text/plain": [
       "'<sos> the the the the the the the the the'"
      ]
     },
     "execution_count": 26,
     "metadata": {},
     "output_type": "execute_result"
    }
   ],
   "source": [
    "print(\"Generated text:\")\n",
    "' '.join([vocab.itos[i] for i in outputs.tolist()])"
   ]
  },
  {
   "cell_type": "code",
   "execution_count": null,
   "id": "differential-manufacturer",
   "metadata": {},
   "outputs": [],
   "source": []
  }
 ],
 "metadata": {
  "kernelspec": {
   "display_name": "Python 3",
   "language": "python",
   "name": "python3"
  },
  "language_info": {
   "codemirror_mode": {
    "name": "ipython",
    "version": 3
   },
   "file_extension": ".py",
   "mimetype": "text/x-python",
   "name": "python",
   "nbconvert_exporter": "python",
   "pygments_lexer": "ipython3",
   "version": "3.8.7"
  }
 },
 "nbformat": 4,
 "nbformat_minor": 5
}
