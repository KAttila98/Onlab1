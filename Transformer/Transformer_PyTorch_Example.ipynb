{
 "cells": [
  {
   "cell_type": "code",
   "execution_count": 6,
   "id": "underlying-planning",
   "metadata": {},
   "outputs": [],
   "source": [
    "from tqdm import tqdm\n",
    "import torch\n",
    "import torch.nn as nn\n",
    "import torch.nn.functional as F\n",
    "from model import TransformerModel"
   ]
  },
  {
   "cell_type": "markdown",
   "id": "featured-privilege",
   "metadata": {},
   "source": [
    "# Data processing and model compiling"
   ]
  },
  {
   "cell_type": "code",
   "execution_count": 2,
   "id": "collected-bulletin",
   "metadata": {},
   "outputs": [],
   "source": [
    "bptt = 35\n",
    "def get_batch(source, i):\n",
    "    seq_len = min(bptt, len(source) - 1 - i)\n",
    "    data = source[i:i+seq_len]\n",
    "    target = source[i+1:i+1+seq_len].reshape(-1)\n",
    "    return data, target"
   ]
  },
  {
   "cell_type": "code",
   "execution_count": 3,
   "id": "invalid-allowance",
   "metadata": {},
   "outputs": [],
   "source": [
    "import io\n",
    "import torch\n",
    "from torchtext.datasets import WikiText2\n",
    "from torchtext.data.utils import get_tokenizer\n",
    "from collections import Counter\n",
    "from torchtext.vocab import Vocab\n",
    "\n",
    "train_iter = WikiText2(split='train')\n",
    "tokenizer = get_tokenizer('basic_english')\n",
    "counter = Counter()\n",
    "for line in train_iter:\n",
    "    counter.update(tokenizer(line))\n",
    "vocab = Vocab(counter)\n",
    "\n",
    "def data_process(raw_text_iter):\n",
    "    data = [torch.tensor([vocab[token] for token in tokenizer(item)],\n",
    "                       dtype=torch.long) for item in raw_text_iter]\n",
    "    return torch.cat(tuple(filter(lambda t: t.numel() > 0, data)))\n",
    "\n",
    "train_iter, val_iter, test_iter = WikiText2()\n",
    "train_data = data_process(train_iter)\n",
    "val_data = data_process(val_iter)\n",
    "test_data = data_process(test_iter)\n",
    "\n",
    "device = torch.device(\"cuda\" if torch.cuda.is_available() else \"cpu\")\n",
    "\n",
    "def batchify(data, bsz):\n",
    "    # Divide the dataset into bsz parts.\n",
    "    nbatch = data.size(0) // bsz\n",
    "    # Trim off any extra elements that wouldn't cleanly fit (remainders).\n",
    "    data = data.narrow(0, 0, nbatch * bsz)\n",
    "    # Evenly divide the data across the bsz batches.\n",
    "    data = data.view(bsz, -1).t().contiguous()\n",
    "    return data.to(device)\n",
    "\n",
    "batch_size = 20\n",
    "eval_batch_size = 10\n",
    "train_data = batchify(train_data, batch_size)\n",
    "val_data = batchify(val_data, eval_batch_size)\n",
    "test_data = batchify(test_data, eval_batch_size)"
   ]
  },
  {
   "cell_type": "code",
   "execution_count": 4,
   "id": "occupied-settlement",
   "metadata": {},
   "outputs": [],
   "source": [
    "ntokens = len(vocab.stoi) # the size of vocabulary\n",
    "emsize = 200 # embedding dimension\n",
    "nhid = 200 # the dimension of the feedforward network model in nn.TransformerEncoder\n",
    "nlayers = 2 # the number of nn.TransformerEncoderLayer in nn.TransformerEncoder\n",
    "nhead = 2 # the number of heads in the multiheadattention models\n",
    "dropout = 0.2 # the dropout value\n",
    "model = TransformerModel(ntokens, emsize, nhead, nhid, nlayers, dropout).to(device)"
   ]
  },
  {
   "cell_type": "code",
   "execution_count": 7,
   "id": "emotional-thanks",
   "metadata": {},
   "outputs": [],
   "source": [
    "criterion = nn.CrossEntropyLoss()\n",
    "lr = 5.0 # learning rate\n",
    "optimizer = torch.optim.SGD(model.parameters(), lr=lr)\n",
    "scheduler = torch.optim.lr_scheduler.StepLR(optimizer, 1.0, gamma=0.95)\n",
    "\n",
    "import time\n",
    "def train():\n",
    "    model.train() # Turn on the train mode\n",
    "    total_loss = 0.\n",
    "    start_time = time.time()\n",
    "    src_mask = model.generate_square_subsequent_mask(bptt).to(device)\n",
    "    for batch, i in enumerate(range(0, train_data.size(0) - 1, bptt)):\n",
    "        data, targets = get_batch(train_data, i)\n",
    "        optimizer.zero_grad()\n",
    "        if data.size(0) != bptt:\n",
    "            src_mask = model.generate_square_subsequent_mask(data.size(0)).to(device)\n",
    "        output = model(data, src_mask)\n",
    "        loss = criterion(output.view(-1, ntokens), targets)\n",
    "        loss.backward()\n",
    "        torch.nn.utils.clip_grad_norm_(model.parameters(), 0.5)\n",
    "        optimizer.step()\n",
    "\n",
    "        total_loss += loss.item()\n",
    "        log_interval = 200\n",
    "        if batch % log_interval == 0 and batch > 0:\n",
    "            cur_loss = total_loss / log_interval\n",
    "            elapsed = time.time() - start_time\n",
    "            print('| epoch {:3d} | {:5d}/{:5d} batches | '\n",
    "                  'lr {:02.2f} | ms/batch {:5.2f} | '\n",
    "                  'loss {:5.2f} | ppl {:8.2f}'.format(\n",
    "                    epoch, batch, len(train_data) // bptt, scheduler.get_lr()[0],\n",
    "                    elapsed * 1000 / log_interval,\n",
    "                    cur_loss, math.exp(cur_loss)))\n",
    "            total_loss = 0\n",
    "            start_time = time.time()\n",
    "\n",
    "def evaluate(eval_model, data_source):\n",
    "    eval_model.eval() # Turn on the evaluation mode\n",
    "    total_loss = 0.\n",
    "    src_mask = model.generate_square_subsequent_mask(bptt).to(device)\n",
    "    with torch.no_grad():\n",
    "        for i in range(0, data_source.size(0) - 1, bptt):\n",
    "            data, targets = get_batch(data_source, i)\n",
    "            if data.size(0) != bptt:\n",
    "                src_mask = model.generate_square_subsequent_mask(data.size(0)).to(device)\n",
    "            output = eval_model(data, src_mask)\n",
    "            output_flat = output.view(-1, ntokens)\n",
    "            total_loss += len(data) * criterion(output_flat, targets).item()\n",
    "    return total_loss / (len(data_source) - 1)"
   ]
  },
  {
   "cell_type": "markdown",
   "id": "valued-lunch",
   "metadata": {},
   "source": [
    "# Training"
   ]
  },
  {
   "cell_type": "code",
   "execution_count": 7,
   "id": "religious-binary",
   "metadata": {
    "collapsed": true,
    "jupyter": {
     "outputs_hidden": true
    },
    "tags": []
   },
   "outputs": [
    {
     "name": "stderr",
     "output_type": "stream",
     "text": [
      "c:\\users\\kajud\\appdata\\local\\programs\\python\\python38\\lib\\site-packages\\torch\\optim\\lr_scheduler.py:369: UserWarning: To get the last learning rate computed by the scheduler, please use `get_last_lr()`.\n",
      "  warnings.warn(\"To get the last learning rate computed by the scheduler, \"\n"
     ]
    },
    {
     "name": "stdout",
     "output_type": "stream",
     "text": [
      "| epoch   1 |   200/ 2928 batches | lr 5.00 | ms/batch 17.93 | loss  8.33 | ppl  4128.56\n",
      "| epoch   1 |   400/ 2928 batches | lr 5.00 | ms/batch 16.83 | loss  6.94 | ppl  1028.08\n",
      "| epoch   1 |   600/ 2928 batches | lr 5.00 | ms/batch 16.79 | loss  6.48 | ppl   650.24\n",
      "| epoch   1 |   800/ 2928 batches | lr 5.00 | ms/batch 16.82 | loss  6.33 | ppl   559.23\n",
      "| epoch   1 |  1000/ 2928 batches | lr 5.00 | ms/batch 17.60 | loss  6.20 | ppl   494.23\n",
      "| epoch   1 |  1200/ 2928 batches | lr 5.00 | ms/batch 16.96 | loss  6.16 | ppl   474.82\n",
      "| epoch   1 |  1400/ 2928 batches | lr 5.00 | ms/batch 16.83 | loss  6.12 | ppl   455.64\n",
      "| epoch   1 |  1600/ 2928 batches | lr 5.00 | ms/batch 16.81 | loss  6.11 | ppl   452.41\n",
      "| epoch   1 |  1800/ 2928 batches | lr 5.00 | ms/batch 16.82 | loss  6.03 | ppl   417.73\n",
      "| epoch   1 |  2000/ 2928 batches | lr 5.00 | ms/batch 16.83 | loss  6.02 | ppl   412.84\n",
      "| epoch   1 |  2200/ 2928 batches | lr 5.00 | ms/batch 16.79 | loss  5.90 | ppl   366.62\n",
      "| epoch   1 |  2400/ 2928 batches | lr 5.00 | ms/batch 16.81 | loss  5.97 | ppl   393.07\n",
      "| epoch   1 |  2600/ 2928 batches | lr 5.00 | ms/batch 16.85 | loss  5.96 | ppl   387.27\n",
      "| epoch   1 |  2800/ 2928 batches | lr 5.00 | ms/batch 16.88 | loss  5.89 | ppl   361.97\n",
      "-----------------------------------------------------------------------------------------\n",
      "| end of epoch   1 | time: 51.69s | valid loss  5.79 | valid ppl   325.71\n",
      "-----------------------------------------------------------------------------------------\n",
      "| epoch   2 |   200/ 2928 batches | lr 4.51 | ms/batch 16.99 | loss  5.88 | ppl   356.32\n",
      "| epoch   2 |   400/ 2928 batches | lr 4.51 | ms/batch 16.89 | loss  5.87 | ppl   352.73\n",
      "| epoch   2 |   600/ 2928 batches | lr 4.51 | ms/batch 16.89 | loss  5.67 | ppl   289.63\n",
      "| epoch   2 |   800/ 2928 batches | lr 4.51 | ms/batch 16.92 | loss  5.71 | ppl   301.55\n",
      "| epoch   2 |  1000/ 2928 batches | lr 4.51 | ms/batch 16.90 | loss  5.66 | ppl   286.17\n",
      "| epoch   2 |  1200/ 2928 batches | lr 4.51 | ms/batch 16.90 | loss  5.68 | ppl   292.96\n",
      "| epoch   2 |  1400/ 2928 batches | lr 4.51 | ms/batch 16.85 | loss  5.70 | ppl   298.06\n",
      "| epoch   2 |  1600/ 2928 batches | lr 4.51 | ms/batch 16.89 | loss  5.72 | ppl   303.94\n",
      "| epoch   2 |  1800/ 2928 batches | lr 4.51 | ms/batch 16.92 | loss  5.66 | ppl   288.13\n",
      "| epoch   2 |  2000/ 2928 batches | lr 4.51 | ms/batch 16.91 | loss  5.68 | ppl   293.10\n",
      "| epoch   2 |  2200/ 2928 batches | lr 4.51 | ms/batch 16.91 | loss  5.56 | ppl   260.00\n",
      "| epoch   2 |  2400/ 2928 batches | lr 4.51 | ms/batch 16.89 | loss  5.65 | ppl   284.56\n",
      "| epoch   2 |  2600/ 2928 batches | lr 4.51 | ms/batch 16.94 | loss  5.65 | ppl   283.74\n",
      "| epoch   2 |  2800/ 2928 batches | lr 4.51 | ms/batch 16.93 | loss  5.59 | ppl   268.00\n",
      "-----------------------------------------------------------------------------------------\n",
      "| end of epoch   2 | time: 51.54s | valid loss  5.65 | valid ppl   283.26\n",
      "-----------------------------------------------------------------------------------------\n",
      "| epoch   3 |   200/ 2928 batches | lr 4.29 | ms/batch 17.02 | loss  5.61 | ppl   273.39\n",
      "| epoch   3 |   400/ 2928 batches | lr 4.29 | ms/batch 16.90 | loss  5.63 | ppl   277.28\n",
      "| epoch   3 |   600/ 2928 batches | lr 4.29 | ms/batch 16.90 | loss  5.44 | ppl   229.32\n",
      "| epoch   3 |   800/ 2928 batches | lr 4.29 | ms/batch 16.92 | loss  5.49 | ppl   242.25\n",
      "| epoch   3 |  1000/ 2928 batches | lr 4.29 | ms/batch 16.91 | loss  5.45 | ppl   232.26\n",
      "| epoch   3 |  1200/ 2928 batches | lr 4.29 | ms/batch 16.90 | loss  5.48 | ppl   239.47\n",
      "| epoch   3 |  1400/ 2928 batches | lr 4.29 | ms/batch 16.91 | loss  5.50 | ppl   243.57\n",
      "| epoch   3 |  1600/ 2928 batches | lr 4.29 | ms/batch 16.89 | loss  5.52 | ppl   249.98\n",
      "| epoch   3 |  1800/ 2928 batches | lr 4.29 | ms/batch 16.90 | loss  5.47 | ppl   237.65\n",
      "| epoch   3 |  2000/ 2928 batches | lr 4.29 | ms/batch 16.92 | loss  5.48 | ppl   240.39\n",
      "| epoch   3 |  2200/ 2928 batches | lr 4.29 | ms/batch 16.90 | loss  5.37 | ppl   214.23\n",
      "| epoch   3 |  2400/ 2928 batches | lr 4.29 | ms/batch 16.89 | loss  5.47 | ppl   236.79\n",
      "| epoch   3 |  2600/ 2928 batches | lr 4.29 | ms/batch 16.87 | loss  5.47 | ppl   238.43\n",
      "| epoch   3 |  2800/ 2928 batches | lr 4.29 | ms/batch 16.87 | loss  5.41 | ppl   223.00\n",
      "-----------------------------------------------------------------------------------------\n",
      "| end of epoch   3 | time: 51.54s | valid loss  5.58 | valid ppl   264.37\n",
      "-----------------------------------------------------------------------------------------\n",
      "| epoch   4 |   200/ 2928 batches | lr 4.07 | ms/batch 17.01 | loss  5.44 | ppl   230.01\n",
      "| epoch   4 |   400/ 2928 batches | lr 4.07 | ms/batch 16.86 | loss  5.47 | ppl   236.37\n",
      "| epoch   4 |   600/ 2928 batches | lr 4.07 | ms/batch 16.91 | loss  5.27 | ppl   194.12\n",
      "| epoch   4 |   800/ 2928 batches | lr 4.07 | ms/batch 16.88 | loss  5.34 | ppl   207.76\n",
      "| epoch   4 |  1000/ 2928 batches | lr 4.07 | ms/batch 16.86 | loss  5.29 | ppl   198.80\n",
      "| epoch   4 |  1200/ 2928 batches | lr 4.07 | ms/batch 16.86 | loss  5.34 | ppl   207.83\n",
      "| epoch   4 |  1400/ 2928 batches | lr 4.07 | ms/batch 16.88 | loss  5.35 | ppl   211.48\n",
      "| epoch   4 |  1600/ 2928 batches | lr 4.07 | ms/batch 16.87 | loss  5.39 | ppl   218.59\n",
      "| epoch   4 |  1800/ 2928 batches | lr 4.07 | ms/batch 16.91 | loss  5.34 | ppl   208.24\n",
      "| epoch   4 |  2000/ 2928 batches | lr 4.07 | ms/batch 16.86 | loss  5.35 | ppl   211.39\n",
      "| epoch   4 |  2200/ 2928 batches | lr 4.07 | ms/batch 16.85 | loss  5.22 | ppl   185.74\n",
      "| epoch   4 |  2400/ 2928 batches | lr 4.07 | ms/batch 16.85 | loss  5.33 | ppl   206.43\n",
      "| epoch   4 |  2600/ 2928 batches | lr 4.07 | ms/batch 16.86 | loss  5.34 | ppl   208.42\n",
      "| epoch   4 |  2800/ 2928 batches | lr 4.07 | ms/batch 16.87 | loss  5.28 | ppl   195.57\n",
      "-----------------------------------------------------------------------------------------\n",
      "| end of epoch   4 | time: 51.46s | valid loss  5.54 | valid ppl   255.95\n",
      "-----------------------------------------------------------------------------------------\n"
     ]
    }
   ],
   "source": [
    "best_val_loss = float(\"inf\")\n",
    "epochs = 4 # The number of epochs\n",
    "best_model = None\n",
    "\n",
    "for epoch in range(1, epochs + 1):\n",
    "    epoch_start_time = time.time()\n",
    "    train()\n",
    "    val_loss = evaluate(model, val_data)\n",
    "    print('-' * 89)\n",
    "    print('| end of epoch {:3d} | time: {:5.2f}s | valid loss {:5.2f} | '\n",
    "          'valid ppl {:8.2f}'.format(epoch, (time.time() - epoch_start_time),\n",
    "                                     val_loss, math.exp(val_loss)))\n",
    "    print('-' * 89)\n",
    "\n",
    "    if val_loss < best_val_loss:\n",
    "        best_val_loss = val_loss\n",
    "        best_model = model\n",
    "\n",
    "    scheduler.step()"
   ]
  },
  {
   "cell_type": "markdown",
   "id": "defined-strand",
   "metadata": {},
   "source": [
    "# Evaluating"
   ]
  },
  {
   "cell_type": "code",
   "execution_count": 52,
   "id": "average-nomination",
   "metadata": {},
   "outputs": [],
   "source": [
    "data, targets = get_batch(train_data, 2) # 1 szavankent vannak shiftelve a szekvenciak, target = kov input szekvencia"
   ]
  },
  {
   "cell_type": "code",
   "execution_count": 53,
   "id": "eligible-camera",
   "metadata": {},
   "outputs": [
    {
     "name": "stdout",
     "output_type": "stream",
     "text": [
      "Input:\n"
     ]
    },
    {
     "data": {
      "text/plain": [
       "'chronicles iii = senjō no valkyria 3 <unk> chronicles ( japanese 戦場のヴァルキュリア3 , lit . valkyria of the battlefield 3 ) , commonly referred to as valkyria chronicles iii outside japan , is a tactical'"
      ]
     },
     "execution_count": 53,
     "metadata": {},
     "output_type": "execute_result"
    }
   ],
   "source": [
    "print(\"Input:\")\n",
    "' '.join([vocab.itos[i] for i in data[:,0].tolist()])"
   ]
  },
  {
   "cell_type": "code",
   "execution_count": 56,
   "id": "modular-fault",
   "metadata": {},
   "outputs": [
    {
     "name": "stdout",
     "output_type": "stream",
     "text": [
      "Target:\n"
     ]
    },
    {
     "data": {
      "text/plain": [
       "'iii = senjō no valkyria 3 <unk> chronicles ( japanese 戦場のヴァルキュリア3 , lit . valkyria of the battlefield 3 ) , commonly referred to as valkyria chronicles iii outside japan , is a tactical role'"
      ]
     },
     "execution_count": 56,
     "metadata": {},
     "output_type": "execute_result"
    }
   ],
   "source": [
    "print(\"Target:\")\n",
    "' '.join([vocab.itos[i] for i in targets.view(bptt, batch_size)[:,0].tolist()])"
   ]
  },
  {
   "cell_type": "code",
   "execution_count": 91,
   "id": "three-daisy",
   "metadata": {},
   "outputs": [],
   "source": [
    "sentence = test_data[35:70,9].unsqueeze(0).cuda()\n",
    "generated = sentence.transpose(0, 1)"
   ]
  },
  {
   "cell_type": "code",
   "execution_count": 92,
   "id": "coated-notebook",
   "metadata": {},
   "outputs": [
    {
     "name": "stdout",
     "output_type": "stream",
     "text": [
      "Generating text with seed:\n"
     ]
    },
    {
     "data": {
      "text/plain": [
       "'basketball player who represented australia in <unk> at the 2012 summer paralympics in london , coming 11th and 12th in her events . <unk> to wheelchair basketball , she made her debut with the national'"
      ]
     },
     "execution_count": 92,
     "metadata": {},
     "output_type": "execute_result"
    }
   ],
   "source": [
    "print(\"Generating text with seed:\")\n",
    "' '.join([vocab.itos[i] for i in generated.transpose(0,1).tolist()[0]])"
   ]
  },
  {
   "cell_type": "code",
   "execution_count": 93,
   "id": "neural-irrigation",
   "metadata": {},
   "outputs": [],
   "source": [
    "model.eval()\n",
    "softmax = torch.nn.Softmax(dim = 1)\n",
    "data = generated\n",
    "for i in range(30):\n",
    "    src_mask = model.generate_square_subsequent_mask(data.size(0)).to(device)\n",
    "    output = model(data, src_mask)\n",
    "    output_flat = torch.argmax(softmax(output.view(-1, ntokens)), dim = 1)\n",
    "    generated = torch.cat((generated, output_flat[-1].view(-1,1)), dim = 0)\n",
    "    data = generated[-bptt:]"
   ]
  },
  {
   "cell_type": "code",
   "execution_count": 94,
   "id": "boolean-prison",
   "metadata": {},
   "outputs": [
    {
     "name": "stdout",
     "output_type": "stream",
     "text": [
      "Generated text:\n"
     ]
    },
    {
     "data": {
      "text/plain": [
       "'basketball player who represented australia in <unk> at the 2012 summer paralympics in london , coming 11th and 12th in her events . <unk> to wheelchair basketball , she made her debut with the national hockey league , and was a first time , and was a first time , and was a first time , and a first down , and a first down'"
      ]
     },
     "execution_count": 94,
     "metadata": {},
     "output_type": "execute_result"
    }
   ],
   "source": [
    "print(\"Generated text:\")\n",
    "' '.join([vocab.itos[i] for i in generated.transpose(0,1).tolist()[0]])"
   ]
  }
 ],
 "metadata": {
  "kernelspec": {
   "display_name": "Python 3",
   "language": "python",
   "name": "python3"
  },
  "language_info": {
   "codemirror_mode": {
    "name": "ipython",
    "version": 3
   },
   "file_extension": ".py",
   "mimetype": "text/x-python",
   "name": "python",
   "nbconvert_exporter": "python",
   "pygments_lexer": "ipython3",
   "version": "3.8.7"
  }
 },
 "nbformat": 4,
 "nbformat_minor": 5
}
