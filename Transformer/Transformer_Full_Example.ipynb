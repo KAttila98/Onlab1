{
 "cells": [
  {
   "cell_type": "code",
   "execution_count": 1,
   "id": "toxic-establishment",
   "metadata": {},
   "outputs": [],
   "source": [
    "import math\n",
    "from tqdm import tqdm\n",
    "import torch\n",
    "import torch.nn as nn\n",
    "import torch.nn.functional as F\n",
    "from model import TransformerModel\n",
    "import wikitext_data"
   ]
  },
  {
   "cell_type": "markdown",
   "id": "scheduled-emperor",
   "metadata": {},
   "source": [
    "# Data processing and model compiling"
   ]
  },
  {
   "cell_type": "code",
   "execution_count": 2,
   "id": "phantom-entrance",
   "metadata": {},
   "outputs": [],
   "source": [
    "device = torch.device(\"cuda\" if torch.cuda.is_available() else \"cpu\")"
   ]
  },
  {
   "cell_type": "code",
   "execution_count": 3,
   "id": "scientific-alpha",
   "metadata": {},
   "outputs": [],
   "source": [
    "corpus = wikitext_data.Corpus(device)"
   ]
  },
  {
   "cell_type": "code",
   "execution_count": 4,
   "id": "integral-presentation",
   "metadata": {},
   "outputs": [],
   "source": [
    "in_seq_len = 20\n",
    "out_seq_len = 5\n",
    "stride = 20\n",
    "batch_size = 20"
   ]
  },
  {
   "cell_type": "code",
   "execution_count": 5,
   "id": "aging-tomorrow",
   "metadata": {},
   "outputs": [],
   "source": [
    "train_data = wikitext_data.TextDataset(corpus.train, in_out_overlap = False, input_size = in_seq_len, seq_len=in_seq_len + out_seq_len, stride = stride)\n",
    "val_data = wikitext_data.TextDataset(corpus.val, in_out_overlap = False, input_size = in_seq_len, seq_len=in_seq_len + out_seq_len, stride = stride)\n",
    "test_data = wikitext_data.TextDataset(corpus.test, in_out_overlap = False, input_size = in_seq_len, seq_len=in_seq_len + out_seq_len, stride = stride)"
   ]
  },
  {
   "cell_type": "code",
   "execution_count": 6,
   "id": "earlier-hygiene",
   "metadata": {},
   "outputs": [],
   "source": [
    "train_loader = torch.utils.data.DataLoader(train_data, batch_size = batch_size, shuffle = False)\n",
    "val_loader = torch.utils.data.DataLoader(val_data, batch_size = batch_size, shuffle = False)\n",
    "test_loader = torch.utils.data.DataLoader(test_data, batch_size = batch_size, shuffle = False)"
   ]
  },
  {
   "cell_type": "code",
   "execution_count": 7,
   "id": "breeding-domain",
   "metadata": {},
   "outputs": [],
   "source": [
    "ntokens = len(corpus.vocab.stoi) # the size of vocabulary\n",
    "emsize = 200 # embedding dimension\n",
    "nhid = 200 # the dimension of the feedforward network model in nn.TransformerEncoder\n",
    "nlayers = 2 # the number of nn.TransformerEncoderLayer in nn.TransformerEncoder\n",
    "nhead = 2 # the number of heads in the multiheadattention models\n",
    "dropout = 0.2 # the dropout value\n",
    "model = TransformerModel(ntokens, emsize, nhead, nhid, nlayers, dropout).to(device)"
   ]
  },
  {
   "cell_type": "code",
   "execution_count": 10,
   "id": "ancient-constitution",
   "metadata": {},
   "outputs": [],
   "source": [
    "criterion = nn.CrossEntropyLoss()\n",
    "lr = 5.0 # learning rate\n",
    "optimizer = torch.optim.SGD(model.parameters(), lr=lr)\n",
    "scheduler = torch.optim.lr_scheduler.StepLR(optimizer, 1.0, gamma=0.95)\n",
    "\n",
    "import time\n",
    "def train():\n",
    "    model.train() # Turn on the train mode\n",
    "    total_loss = 0.\n",
    "    start_time = time.time()\n",
    "    trg_mask = model.generate_square_subsequent_mask(out_seq_len).to(device)\n",
    "    for batch, i in enumerate(train_loader):\n",
    "        data, target = i\n",
    "        \n",
    "        data = data.transpose(0,1).contiguous()\n",
    "        target = target.transpose(0,1).contiguous()\n",
    "        sos = torch.empty(1, target.shape[1], dtype = torch.int).fill_(corpus.vocab.stoi['<sos>'])\n",
    "        target = torch.cat((sos.to(device), target), dim = 0)\n",
    "        \n",
    "        trg_inp = target[:-1,:]\n",
    "        trg = target[1:,:].reshape(-1)\n",
    "        optimizer.zero_grad()\n",
    "        output = model(data, trg_inp, src_mask = None, trg_mask = trg_mask)\n",
    "        loss = criterion(output.view(-1, ntokens), trg)\n",
    "        loss.backward()\n",
    "        torch.nn.utils.clip_grad_norm_(model.parameters(), 0.5)\n",
    "        optimizer.step()\n",
    "\n",
    "        total_loss += loss.item()\n",
    "        log_interval = 200\n",
    "        if batch % log_interval == 0 and batch > 0:\n",
    "            cur_loss = total_loss / log_interval\n",
    "            elapsed = time.time() - start_time\n",
    "            print('| epoch {:3d} | {:5d}/{:5d} batches | '\n",
    "                  'lr {:02.2f} | ms/batch {:5.2f} | '\n",
    "                  'loss {:5.2f} | ppl {:8.2f}'.format(\n",
    "                    epoch, batch, len(train_data) // stride, scheduler.get_lr()[0],\n",
    "                    elapsed * 1000 / log_interval,\n",
    "                    cur_loss, math.exp(cur_loss)))\n",
    "            total_loss = 0\n",
    "            start_time = time.time()\n",
    "\n",
    "def evaluate(eval_model, data_source):\n",
    "    eval_model.eval() # Turn on the evaluation mode\n",
    "    total_loss = 0.\n",
    "    trg_mask = model.generate_square_subsequent_mask(out_seq_len).to(device)\n",
    "    with torch.no_grad():\n",
    "        for i in data_source:\n",
    "            data, target = i\n",
    "            data = data.transpose(0,1).contiguous()\n",
    "            target = target.transpose(0,1).contiguous()\n",
    "            sos = torch.empty(1, target.shape[1], dtype = torch.int).fill_(corpus.vocab.stoi['<sos>'])\n",
    "            target = torch.cat((sos.to(device), target), dim = 0)\n",
    "            \n",
    "            trg_inp = target[:-1,:]\n",
    "            trg = target[1:,:].reshape(-1)\n",
    "            output = eval_model(data, trg_inp, src_mask = None, trg_mask = trg_mask)\n",
    "            output_flat = output.view(-1, ntokens)\n",
    "            total_loss += criterion(output_flat, trg).item()\n",
    "    return total_loss / (len(data_source) - 1)"
   ]
  },
  {
   "cell_type": "markdown",
   "id": "comic-barrier",
   "metadata": {},
   "source": [
    "# Training"
   ]
  },
  {
   "cell_type": "code",
   "execution_count": 11,
   "id": "average-immune",
   "metadata": {
    "tags": []
   },
   "outputs": [
    {
     "name": "stdout",
     "output_type": "stream",
     "text": [
      "| epoch   1 |   200/ 5124 batches | lr 5.00 | ms/batch 15.23 | loss  7.08 | ppl  1193.70\n",
      "| epoch   1 |   400/ 5124 batches | lr 5.00 | ms/batch 14.79 | loss  6.99 | ppl  1086.13\n",
      "| epoch   1 |   600/ 5124 batches | lr 5.00 | ms/batch 14.74 | loss  6.95 | ppl  1038.35\n",
      "| epoch   1 |   800/ 5124 batches | lr 5.00 | ms/batch 14.62 | loss  7.04 | ppl  1136.72\n",
      "| epoch   1 |  1000/ 5124 batches | lr 5.00 | ms/batch 14.46 | loss  7.01 | ppl  1108.74\n",
      "| epoch   1 |  1200/ 5124 batches | lr 5.00 | ms/batch 14.50 | loss  6.95 | ppl  1038.07\n",
      "| epoch   1 |  1400/ 5124 batches | lr 5.00 | ms/batch 14.72 | loss  6.98 | ppl  1070.61\n",
      "| epoch   1 |  1600/ 5124 batches | lr 5.00 | ms/batch 14.99 | loss  6.90 | ppl   991.79\n",
      "| epoch   1 |  1800/ 5124 batches | lr 5.00 | ms/batch 15.22 | loss  6.98 | ppl  1074.23\n",
      "| epoch   1 |  2000/ 5124 batches | lr 5.00 | ms/batch 14.45 | loss  6.94 | ppl  1027.74\n",
      "| epoch   1 |  2200/ 5124 batches | lr 5.00 | ms/batch 14.75 | loss  6.95 | ppl  1038.82\n",
      "| epoch   1 |  2400/ 5124 batches | lr 5.00 | ms/batch 14.87 | loss  6.85 | ppl   948.25\n",
      "| epoch   1 |  2600/ 5124 batches | lr 5.00 | ms/batch 14.77 | loss  6.85 | ppl   944.84\n",
      "| epoch   1 |  2800/ 5124 batches | lr 5.00 | ms/batch 14.83 | loss  6.92 | ppl  1007.79\n",
      "| epoch   1 |  3000/ 5124 batches | lr 5.00 | ms/batch 14.86 | loss  6.85 | ppl   942.51\n",
      "| epoch   1 |  3200/ 5124 batches | lr 5.00 | ms/batch 15.07 | loss  6.80 | ppl   895.85\n",
      "| epoch   1 |  3400/ 5124 batches | lr 5.00 | ms/batch 15.19 | loss  6.92 | ppl  1007.98\n",
      "| epoch   1 |  3600/ 5124 batches | lr 5.00 | ms/batch 15.01 | loss  6.95 | ppl  1047.43\n",
      "| epoch   1 |  3800/ 5124 batches | lr 5.00 | ms/batch 15.19 | loss  6.88 | ppl   971.74\n",
      "| epoch   1 |  4000/ 5124 batches | lr 5.00 | ms/batch 14.90 | loss  6.90 | ppl   996.90\n",
      "| epoch   1 |  4200/ 5124 batches | lr 5.00 | ms/batch 14.80 | loss  6.91 | ppl  1004.08\n",
      "| epoch   1 |  4400/ 5124 batches | lr 5.00 | ms/batch 14.77 | loss  6.95 | ppl  1045.68\n",
      "| epoch   1 |  4600/ 5124 batches | lr 5.00 | ms/batch 14.83 | loss  6.87 | ppl   964.16\n",
      "| epoch   1 |  4800/ 5124 batches | lr 5.00 | ms/batch 14.72 | loss  6.89 | ppl   987.03\n",
      "| epoch   1 |  5000/ 5124 batches | lr 5.00 | ms/batch 14.80 | loss  6.87 | ppl   959.32\n",
      "-----------------------------------------------------------------------------------------\n",
      "| end of epoch   1 | time: 78.21s | valid loss  6.98 | valid ppl  1072.06\n",
      "-----------------------------------------------------------------------------------------\n"
     ]
    }
   ],
   "source": [
    "best_val_loss = float(\"inf\")\n",
    "epochs = 1 # The number of epochs\n",
    "best_model = None\n",
    "\n",
    "for epoch in range(1, epochs + 1):\n",
    "    epoch_start_time = time.time()\n",
    "    train()\n",
    "    val_loss = evaluate(model, val_loader)\n",
    "    print('-' * 89)\n",
    "    print('| end of epoch {:3d} | time: {:5.2f}s | valid loss {:5.2f} | '\n",
    "          'valid ppl {:8.2f}'.format(epoch, (time.time() - epoch_start_time),\n",
    "                                     val_loss, math.exp(val_loss)))\n",
    "    print('-' * 89)\n",
    "\n",
    "    if val_loss < best_val_loss:\n",
    "        best_val_loss = val_loss\n",
    "        best_model = model\n",
    "\n",
    "    scheduler.step()"
   ]
  },
  {
   "cell_type": "markdown",
   "id": "continental-commonwealth",
   "metadata": {},
   "source": [
    "# Evaluating"
   ]
  },
  {
   "cell_type": "code",
   "execution_count": 12,
   "id": "alien-ethiopia",
   "metadata": {},
   "outputs": [],
   "source": [
    "for batch, b in enumerate(train_loader):\n",
    "    data, targets = b\n",
    "    break"
   ]
  },
  {
   "cell_type": "code",
   "execution_count": 15,
   "id": "lovely-madison",
   "metadata": {},
   "outputs": [
    {
     "name": "stdout",
     "output_type": "stream",
     "text": [
      "Input:\n"
     ]
    },
    {
     "data": {
      "text/plain": [
       "'= valkyria chronicles iii = senjō no valkyria 3 <unk> chronicles ( japanese 戦場のヴァルキュリア3 , lit . valkyria of the'"
      ]
     },
     "execution_count": 15,
     "metadata": {},
     "output_type": "execute_result"
    }
   ],
   "source": [
    "print(\"Input:\")\n",
    "' '.join([corpus.vocab.itos[i] for i in data[0].tolist()])"
   ]
  },
  {
   "cell_type": "code",
   "execution_count": 16,
   "id": "marine-pursuit",
   "metadata": {},
   "outputs": [
    {
     "name": "stdout",
     "output_type": "stream",
     "text": [
      "Target:\n"
     ]
    },
    {
     "data": {
      "text/plain": [
       "'battlefield 3 ) , commonly'"
      ]
     },
     "execution_count": 16,
     "metadata": {},
     "output_type": "execute_result"
    }
   ],
   "source": [
    "print(\"Target:\")\n",
    "' '.join([corpus.vocab.itos[i] for i in targets[0].tolist()])"
   ]
  },
  {
   "cell_type": "code",
   "execution_count": 20,
   "id": "sufficient-boost",
   "metadata": {},
   "outputs": [],
   "source": [
    "sentence = corpus.test[0:in_seq_len].unsqueeze(0).cuda()\n",
    "generated = sentence.transpose(0, 1)"
   ]
  },
  {
   "cell_type": "code",
   "execution_count": 21,
   "id": "smart-surfing",
   "metadata": {},
   "outputs": [
    {
     "data": {
      "text/plain": [
       "torch.Size([20, 1])"
      ]
     },
     "execution_count": 21,
     "metadata": {},
     "output_type": "execute_result"
    }
   ],
   "source": [
    "generated.shape"
   ]
  },
  {
   "cell_type": "code",
   "execution_count": 22,
   "id": "sublime-messaging",
   "metadata": {},
   "outputs": [
    {
     "name": "stdout",
     "output_type": "stream",
     "text": [
      "Generating text with seed:\n"
     ]
    },
    {
     "data": {
      "text/plain": [
       "'= robert <unk> = robert <unk> is an english film , television and theatre actor . he had a guest'"
      ]
     },
     "execution_count": 22,
     "metadata": {},
     "output_type": "execute_result"
    }
   ],
   "source": [
    "print(\"Generating text with seed:\")\n",
    "' '.join([corpus.vocab.itos[i] for i in generated.transpose(0,1).tolist()[0]])"
   ]
  },
  {
   "cell_type": "code",
   "execution_count": 24,
   "id": "increased-translation",
   "metadata": {},
   "outputs": [],
   "source": [
    "model.eval()\n",
    "max_len = 10\n",
    "\n",
    "src = model.emb_encoder(generated) * math.sqrt(model.ninp)\n",
    "src = model.pos_encoder(src)\n",
    "e_output = model.transformer_encoder(src, None)\n",
    "\n",
    "outputs = torch.zeros(max_len).type_as(generated.data)\n",
    "outputs[0] = torch.LongTensor([corpus.vocab.stoi['<sos>']])\n",
    "\n",
    "for i in range(1, max_len):    \n",
    "            \n",
    "        trg_mask = model.generate_square_subsequent_mask(i).to(device)\n",
    "        \n",
    "        trg = model.emb_decoder(outputs[:i].unsqueeze(1)) * math.sqrt(model.ninp)\n",
    "        trg = model.pos_encoder(trg)\n",
    "        \n",
    "        d_output = model.transformer_decoder(trg, e_output, trg_mask, None)\n",
    "        out = model.decoder(d_output)\n",
    "        out = torch.argmax(F.softmax(out, dim=-1), dim = -1).view(-1)[-1]\n",
    "        outputs[i] = out\n",
    "        "
   ]
  },
  {
   "cell_type": "code",
   "execution_count": 26,
   "id": "formal-jackson",
   "metadata": {},
   "outputs": [
    {
     "name": "stdout",
     "output_type": "stream",
     "text": [
      "Generated text:\n"
     ]
    },
    {
     "data": {
      "text/plain": [
       "'<sos> the the the the the the the the the'"
      ]
     },
     "execution_count": 26,
     "metadata": {},
     "output_type": "execute_result"
    }
   ],
   "source": [
    "print(\"Generated text:\")\n",
    "' '.join([corpus.vocab.itos[i] for i in outputs.tolist()])"
   ]
  },
  {
   "cell_type": "code",
   "execution_count": null,
   "id": "alike-budget",
   "metadata": {},
   "outputs": [],
   "source": []
  }
 ],
 "metadata": {
  "kernelspec": {
   "display_name": "Python 3",
   "language": "python",
   "name": "python3"
  },
  "language_info": {
   "codemirror_mode": {
    "name": "ipython",
    "version": 3
   },
   "file_extension": ".py",
   "mimetype": "text/x-python",
   "name": "python",
   "nbconvert_exporter": "python",
   "pygments_lexer": "ipython3",
   "version": "3.8.7"
  }
 },
 "nbformat": 4,
 "nbformat_minor": 5
}
