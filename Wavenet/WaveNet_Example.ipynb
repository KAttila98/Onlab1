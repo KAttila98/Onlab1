{
 "cells": [
  {
   "cell_type": "code",
   "execution_count": 1,
   "id": "naughty-builder",
   "metadata": {},
   "outputs": [],
   "source": [
    "import text_data\n",
    "import networks\n",
    "import numpy as np\n",
    "import torch\n",
    "import torch.nn as nn\n",
    "from tqdm import tqdm"
   ]
  },
  {
   "cell_type": "markdown",
   "id": "resistant-slovenia",
   "metadata": {},
   "source": [
    "# Data preprocessing and model compiling"
   ]
  },
  {
   "cell_type": "code",
   "execution_count": 2,
   "id": "serious-music",
   "metadata": {},
   "outputs": [],
   "source": [
    "corpus = text_data.Corpus(\"data/wikitext\")"
   ]
  },
  {
   "cell_type": "code",
   "execution_count": 3,
   "id": "handled-integral",
   "metadata": {},
   "outputs": [],
   "source": [
    "n_tokens = len(corpus.dictionary)"
   ]
  },
  {
   "cell_type": "code",
   "execution_count": 4,
   "id": "regular-tractor",
   "metadata": {},
   "outputs": [],
   "source": [
    "model = networks.WaveNet(layer_size = 6, stack_size = 3, n_tokens = n_tokens, in_channels = 256, res_channels = 512)\n",
    "if torch.cuda.is_available():\n",
    "    model.cuda()"
   ]
  },
  {
   "cell_type": "code",
   "execution_count": 5,
   "id": "greek-place",
   "metadata": {},
   "outputs": [],
   "source": [
    "criterion = nn.CrossEntropyLoss()\n",
    "optimizer = torch.optim.Adam(model.parameters(), lr=0.002)"
   ]
  },
  {
   "cell_type": "code",
   "execution_count": 6,
   "id": "raising-orleans",
   "metadata": {},
   "outputs": [],
   "source": [
    "def train(inputs, targets):\n",
    "        \"\"\"\n",
    "        Train 1 time\n",
    "        :param inputs: Tensor[batch, timestep, channels]\n",
    "        :param targets: Torch tensor [batch, timestep, channels]\n",
    "        :return: float loss\n",
    "        \"\"\"\n",
    "        preds, logits = model(inputs)\n",
    "\n",
    "        loss = criterion(logits.view(-1, n_tokens),\n",
    "                         targets.long().view(-1))\n",
    "\n",
    "        optimizer.zero_grad()\n",
    "        loss.backward()\n",
    "        optimizer.step()\n",
    "        \n",
    "        return loss.item()"
   ]
  },
  {
   "cell_type": "code",
   "execution_count": 7,
   "id": "thousand-swaziland",
   "metadata": {},
   "outputs": [
    {
     "data": {
      "text/plain": [
       "190"
      ]
     },
     "execution_count": 7,
     "metadata": {},
     "output_type": "execute_result"
    }
   ],
   "source": [
    "model.receptive_fields"
   ]
  },
  {
   "cell_type": "code",
   "execution_count": 8,
   "id": "comparative-inventory",
   "metadata": {},
   "outputs": [],
   "source": [
    "train_data = text_data.TextDataset(corpus.train, model.receptive_fields, sample_size = 280)"
   ]
  },
  {
   "cell_type": "code",
   "execution_count": 9,
   "id": "available-programmer",
   "metadata": {},
   "outputs": [],
   "source": [
    "train_loader = torch.utils.data.DataLoader(train_data, batch_size = 32, shuffle = False)"
   ]
  },
  {
   "cell_type": "markdown",
   "id": "headed-opinion",
   "metadata": {},
   "source": [
    "# Training"
   ]
  },
  {
   "cell_type": "code",
   "execution_count": 10,
   "id": "adjustable-kitchen",
   "metadata": {},
   "outputs": [],
   "source": [
    "epochs = 1"
   ]
  },
  {
   "cell_type": "code",
   "execution_count": 11,
   "id": "serious-upgrade",
   "metadata": {},
   "outputs": [],
   "source": [
    "torch.cuda.empty_cache()"
   ]
  },
  {
   "cell_type": "code",
   "execution_count": 12,
   "id": "imposed-counter",
   "metadata": {},
   "outputs": [
    {
     "name": "stderr",
     "output_type": "stream",
     "text": [
      "100%|████████████████████████████████████████████████████████████████████████████████| 718/718 [18:18<00:00,  1.53s/it]"
     ]
    },
    {
     "name": "stdout",
     "output_type": "stream",
     "text": [
      "[1/1] loss: 6.704344749450684\n"
     ]
    },
    {
     "name": "stderr",
     "output_type": "stream",
     "text": [
      "\n"
     ]
    }
   ],
   "source": [
    "model.train()\n",
    "for e in range(epochs):\n",
    "    for b in tqdm(train_loader):\n",
    "        inp, out = b\n",
    "        loss = train(inp, out)\n",
    "        \n",
    "    print(f'[{e + 1}/{epochs}] loss: {loss}')"
   ]
  },
  {
   "cell_type": "markdown",
   "id": "printable-south",
   "metadata": {},
   "source": [
    "# Evaluating"
   ]
  },
  {
   "cell_type": "code",
   "execution_count": 13,
   "id": "positive-frequency",
   "metadata": {},
   "outputs": [],
   "source": [
    "sentence = corpus.test[0:190].unsqueeze(0).cuda()\n",
    "generated = sentence"
   ]
  },
  {
   "cell_type": "code",
   "execution_count": 14,
   "id": "flush-heavy",
   "metadata": {},
   "outputs": [],
   "source": [
    "decoder = corpus.dictionary.idx2word"
   ]
  },
  {
   "cell_type": "code",
   "execution_count": 15,
   "id": "traditional-planet",
   "metadata": {},
   "outputs": [
    {
     "name": "stdout",
     "output_type": "stream",
     "text": [
      "Generating text with seed:\n"
     ]
    },
    {
     "data": {
      "text/plain": [
       "'<eos> = Robert Boulter = <eos> <eos> Robert Boulter is an English film , television and theatre actor . He had a guest @-@ starring role on the television series The Bill in 2000 . This was followed by a starring role in the play Herons written by Simon Stephens , which was performed in 2001 at the Royal Court Theatre . He had a guest role in the television series Judge John Deed in 2002 . In 2004 Boulter landed a role as \" Craig \" in the episode \" Teddy \\'s Story \" of the television series The Long Firm ; he starred alongside actors Mark Strong and Derek Jacobi . He was cast in the 2005 theatre productions of the Philip Ridley play Mercury Fur , which was performed at the Drum Theatre in Plymouth and the Menier Chocolate Factory in London . He was directed by John Tiffany and starred alongside Ben Whishaw , Shane Zaza , Harry Kent , Fraser Ayres , Sophie Stanton and Dominic Hall . <eos> In 2006 , Boulter starred alongside Whishaw in the play Citizenship written by Mark Ravenhill .'"
      ]
     },
     "execution_count": 15,
     "metadata": {},
     "output_type": "execute_result"
    }
   ],
   "source": [
    "print(\"Generating text with seed:\")\n",
    "' '.join([decoder[i] for i in generated.tolist()[0]])"
   ]
  },
  {
   "cell_type": "code",
   "execution_count": 18,
   "id": "attached-colonial",
   "metadata": {},
   "outputs": [
    {
     "name": "stdout",
     "output_type": "stream",
     "text": [
      "<eos> = Robert Boulter = <eos> <eos> Robert Boulter is an English film , television and theatre actor . He had a guest @-@ starring role on the television series The Bill in 2000 . This was followed by a starring role in the play Herons written by Simon Stephens , which was performed in 2001 at the Royal Court Theatre . He had a guest role in the television series Judge John Deed in 2002 . In 2004 Boulter landed a role as \" Craig \" in the episode \" Teddy 's Story \" of the television series The Long Firm ; he starred alongside actors Mark Strong and Derek Jacobi . He was cast in the 2005 theatre productions of the Philip Ridley play Mercury Fur , which was performed at the Drum Theatre in Plymouth and the Menier Chocolate Factory in London . He was directed by John Tiffany and starred alongside Ben Whishaw , Shane Zaza , Harry Kent , Fraser Ayres , Sophie Stanton and Dominic Hall . <eos> In 2006 , Boulter starred alongside Whishaw in the play Citizenship written by Mark Ravenhill . rest speech pitted speech pitted pitted While character speech pitted pitted sales sales speech pitted pitted sales sales speech pitted While character speech pitted pitted rest pitted pitted met pitted speech pitted pitted sales sales speech pitted While character @-@ for franchise rest pitted sales sales pitted pitted sales sales sales pitted pitted sales sales pitted sales sales speech pitted pitted met speech pitted pitted While team composer speech pitted speech pitted pitted sales sales speech pitted pitted sales sales speech pitted sales pitted an during character speech pitted pitted sales sales speech pitted pitted sales sales speech pitted sales\n"
     ]
    }
   ],
   "source": [
    "sample_size = 190\n",
    "softmax = nn.Softmax(dim = -1)\n",
    "for i in range(50): # Generating 10 consecutive words\n",
    "    y_hats, _ = model(sentence)\n",
    "    preds = torch.argmax(softmax(y_hats), dim = -1)\n",
    "    generated = torch.cat((generated, preds), dim=1)\n",
    "    sentence = generated[:,-sample_size:]\n",
    "\n",
    "l_gen = generated.tolist()[0]\n",
    "gen_text = ' '.join([decoder[i] for i in l_gen])\n",
    "print(gen_text)"
   ]
  },
  {
   "cell_type": "code",
   "execution_count": null,
   "id": "designed-allocation",
   "metadata": {},
   "outputs": [],
   "source": []
  }
 ],
 "metadata": {
  "kernelspec": {
   "display_name": "Python 3",
   "language": "python",
   "name": "python3"
  },
  "language_info": {
   "codemirror_mode": {
    "name": "ipython",
    "version": 3
   },
   "file_extension": ".py",
   "mimetype": "text/x-python",
   "name": "python",
   "nbconvert_exporter": "python",
   "pygments_lexer": "ipython3",
   "version": "3.8.7"
  }
 },
 "nbformat": 4,
 "nbformat_minor": 5
}
